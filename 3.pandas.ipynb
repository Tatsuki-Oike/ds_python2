{
 "cells": [
  {
   "cell_type": "markdown",
   "id": "fb53c947-6be9-4db5-b65b-2d34c357fb3b",
   "metadata": {},
   "source": [
    "# 1 Series"
   ]
  },
  {
   "cell_type": "code",
   "execution_count": 1,
   "id": "6f6c36dd-43ff-4771-8e31-c144aa598354",
   "metadata": {},
   "outputs": [],
   "source": [
    "import numpy as np\n",
    "import pandas as pd\n",
    "np.random.seed(1)"
   ]
  },
  {
   "cell_type": "markdown",
   "id": "765316db-0875-4a67-8c43-21e7d10ca138",
   "metadata": {},
   "source": [
    "## 1.1 Seriesの特徴"
   ]
  },
  {
   "cell_type": "code",
   "execution_count": 2,
   "id": "5223e91b-eb9b-4126-b78b-5e157025cffb",
   "metadata": {},
   "outputs": [],
   "source": [
    "sample_arr = np.random.randint(1, 10, 4)\n",
    "sample_list = [1, 2, \"a\", \"b\"]\n",
    "sample_series1 = pd.Series(sample_arr)\n",
    "sample_series2 = pd.Series(sample_list)"
   ]
  },
  {
   "cell_type": "code",
   "execution_count": 3,
   "id": "06743bd0-9669-4567-b198-3644bd08570b",
   "metadata": {},
   "outputs": [
    {
     "name": "stdout",
     "output_type": "stream",
     "text": [
      "0    6\n",
      "1    9\n",
      "2    6\n",
      "3    1\n",
      "dtype: int64\n",
      "<class 'pandas.core.series.Series'>\n",
      "int64\n"
     ]
    }
   ],
   "source": [
    "print(sample_series1)\n",
    "print(type(sample_series1))\n",
    "print(sample_series1.dtype)"
   ]
  },
  {
   "cell_type": "code",
   "execution_count": 4,
   "id": "7f47a000-e129-4e63-a1f7-2f51a84eb603",
   "metadata": {},
   "outputs": [
    {
     "name": "stdout",
     "output_type": "stream",
     "text": [
      "0    6.0\n",
      "1    9.0\n",
      "2    6.0\n",
      "3    1.0\n",
      "dtype: float64\n"
     ]
    }
   ],
   "source": [
    "print(sample_series1.astype(float))"
   ]
  },
  {
   "cell_type": "code",
   "execution_count": 5,
   "id": "ed251f8e-19d5-4764-b9f1-1add5d8ad699",
   "metadata": {},
   "outputs": [
    {
     "name": "stdout",
     "output_type": "stream",
     "text": [
      "9 <class 'numpy.int64'>\n"
     ]
    }
   ],
   "source": [
    "print(sample_series1[1], type(sample_series1[1]))"
   ]
  },
  {
   "cell_type": "code",
   "execution_count": 6,
   "id": "77af8750-b258-4532-b0f7-ccd5008b047b",
   "metadata": {},
   "outputs": [
    {
     "name": "stdout",
     "output_type": "stream",
     "text": [
      "0    1\n",
      "1    2\n",
      "2    a\n",
      "3    b\n",
      "dtype: object\n",
      "<class 'pandas.core.series.Series'>\n",
      "object\n"
     ]
    }
   ],
   "source": [
    "print(sample_series2)\n",
    "print(type(sample_series2))\n",
    "print(sample_series2.dtype)"
   ]
  },
  {
   "cell_type": "code",
   "execution_count": 7,
   "id": "7dd5d4f8-209b-4aae-9ef0-0be6590a70e0",
   "metadata": {},
   "outputs": [
    {
     "name": "stdout",
     "output_type": "stream",
     "text": [
      "2 <class 'int'>\n",
      "b <class 'str'>\n"
     ]
    }
   ],
   "source": [
    "print(sample_series2[1], type(sample_series2[1]))\n",
    "print(sample_series2[3], type(sample_series2[3]))"
   ]
  },
  {
   "cell_type": "markdown",
   "id": "2f73f49d-01cc-4cc2-af6e-da70387bfe90",
   "metadata": {},
   "source": [
    "## 1.2 Seriesの構成要素"
   ]
  },
  {
   "cell_type": "code",
   "execution_count": 8,
   "id": "54c4e56a-3217-4ff2-98bc-690cfe4f7046",
   "metadata": {},
   "outputs": [
    {
     "name": "stdout",
     "output_type": "stream",
     "text": [
      "0    1\n",
      "1    2\n",
      "2    a\n",
      "3    b\n",
      "dtype: object\n"
     ]
    }
   ],
   "source": [
    "sample_list = [1, 2, \"a\", \"b\"]\n",
    "sample_series2 = pd.Series(sample_list)\n",
    "print(sample_series2)"
   ]
  },
  {
   "cell_type": "code",
   "execution_count": 9,
   "id": "8af20fc8-699b-4b31-9e1b-ab733dde9f3d",
   "metadata": {},
   "outputs": [
    {
     "name": "stdout",
     "output_type": "stream",
     "text": [
      "index\n",
      "0    1\n",
      "1    2\n",
      "2    a\n",
      "3    b\n",
      "dtype: object \n",
      "\n",
      "RangeIndex(start=0, stop=4, step=1) <class 'pandas.core.indexes.range.RangeIndex'>\n"
     ]
    }
   ],
   "source": [
    "print(\"index\")\n",
    "print(sample_series2, \"\\n\")\n",
    "print(sample_series2.index, type(sample_series2.index))"
   ]
  },
  {
   "cell_type": "code",
   "execution_count": 10,
   "id": "12fb443f-854a-4e67-9d54-96dcea0ea492",
   "metadata": {},
   "outputs": [
    {
     "name": "stdout",
     "output_type": "stream",
     "text": [
      "a    1\n",
      "b    2\n",
      "c    a\n",
      "d    b\n",
      "dtype: object \n",
      "\n",
      "Index(['a', 'b', 'c', 'd'], dtype='object') <class 'pandas.core.indexes.base.Index'>\n"
     ]
    }
   ],
   "source": [
    "sample_series2.index = [\"a\", \"b\", \"c\", \"d\"]\n",
    "print(sample_series2, \"\\n\")\n",
    "print(sample_series2.index, type(sample_series2.index))"
   ]
  },
  {
   "cell_type": "code",
   "execution_count": 11,
   "id": "ae4489f2-d995-422f-9374-51e3ab401292",
   "metadata": {},
   "outputs": [
    {
     "name": "stdout",
     "output_type": "stream",
     "text": [
      "value\n",
      "a    1\n",
      "b    2\n",
      "c    a\n",
      "d    b\n",
      "dtype: object \n",
      "\n",
      "[1 2 'a' 'b'] <class 'numpy.ndarray'>\n",
      "2 <class 'int'>\n",
      "b <class 'str'>\n"
     ]
    }
   ],
   "source": [
    "print(\"value\")\n",
    "print(sample_series2, \"\\n\")\n",
    "print(sample_series2.values, type(sample_series2.values))\n",
    "print(sample_series2.values[1], type(sample_series2.values[1]))\n",
    "print(sample_series2.values[3], type(sample_series2.values[3]))"
   ]
  },
  {
   "cell_type": "code",
   "execution_count": 12,
   "id": "41f4154c-74f6-48d1-8a4b-e018467ea834",
   "metadata": {},
   "outputs": [
    {
     "name": "stdout",
     "output_type": "stream",
     "text": [
      "dtype\n",
      "a    1\n",
      "b    2\n",
      "c    a\n",
      "d    b\n",
      "dtype: object \n",
      "\n",
      "object <class 'numpy.dtype[object_]'>\n"
     ]
    }
   ],
   "source": [
    "print(\"dtype\")\n",
    "print(sample_series2, \"\\n\")\n",
    "print(sample_series2.dtype, type(sample_series2.dtype))"
   ]
  },
  {
   "cell_type": "code",
   "execution_count": 13,
   "id": "47476f3e-064b-41b5-9a47-ce0c584c1644",
   "metadata": {},
   "outputs": [
    {
     "name": "stdout",
     "output_type": "stream",
     "text": [
      "name\n",
      "a    1\n",
      "b    2\n",
      "c    a\n",
      "d    b\n",
      "dtype: object \n",
      "\n",
      "None <class 'NoneType'>\n"
     ]
    }
   ],
   "source": [
    "print(\"name\")\n",
    "print(sample_series2, \"\\n\")\n",
    "print(sample_series2.name, type(sample_series2.name))"
   ]
  },
  {
   "cell_type": "code",
   "execution_count": 14,
   "id": "9ea663d4-3d67-44ca-980d-fa412a6588e1",
   "metadata": {},
   "outputs": [
    {
     "name": "stdout",
     "output_type": "stream",
     "text": [
      "a    1\n",
      "b    2\n",
      "c    a\n",
      "d    b\n",
      "Name: Hello, dtype: object \n",
      "\n",
      "Hello <class 'str'>\n"
     ]
    }
   ],
   "source": [
    "sample_series2.name = \"Hello\"\n",
    "print(sample_series2, \"\\n\")\n",
    "print(sample_series2.name, type(sample_series2.name))"
   ]
  },
  {
   "cell_type": "markdown",
   "id": "c757d758-2073-44a3-9fe8-19c0c8b741a2",
   "metadata": {},
   "source": [
    "## 1.3 演算と関数"
   ]
  },
  {
   "cell_type": "code",
   "execution_count": 15,
   "id": "e0a6e7f8-d020-4543-9550-31f6c36cc8f1",
   "metadata": {
    "tags": []
   },
   "outputs": [
    {
     "name": "stdout",
     "output_type": "stream",
     "text": [
      "sample_series3\n",
      " 0    1\n",
      "1    2\n",
      "2    8\n",
      "3    7\n",
      "dtype: int64\n",
      "sample_series4\n",
      " 0    3\n",
      "1    5\n",
      "2    6\n",
      "3    3\n",
      "dtype: int64\n",
      "\n",
      "四則演算\n",
      "0     4\n",
      "1     7\n",
      "2    14\n",
      "3    10\n",
      "dtype: int64\n",
      "0   -2\n",
      "1   -3\n",
      "2    2\n",
      "3    4\n",
      "dtype: int64\n",
      "0     3\n",
      "1    10\n",
      "2    48\n",
      "3    21\n",
      "dtype: int64\n",
      "0    0.333333\n",
      "1    0.400000\n",
      "2    1.333333\n",
      "3    2.333333\n",
      "dtype: float64\n"
     ]
    }
   ],
   "source": [
    "sample_series3 = pd.Series(np.random.randint(1, 10, 4))\n",
    "sample_series4 = pd.Series(np.random.randint(1, 10, 4))\n",
    "\n",
    "print(\"sample_series3\\n\", sample_series3)\n",
    "print(\"sample_series4\\n\", sample_series4)\n",
    "\n",
    "print(\"\\n四則演算\")\n",
    "print(sample_series3 + sample_series4)\n",
    "print(sample_series3 - sample_series4)\n",
    "print(sample_series3 * sample_series4)\n",
    "print(sample_series3 / sample_series4)"
   ]
  },
  {
   "cell_type": "code",
   "execution_count": 16,
   "id": "c4680c02-3d6f-4d15-9c16-67571dcaaece",
   "metadata": {},
   "outputs": [
    {
     "name": "stdout",
     "output_type": "stream",
     "text": [
      "0    6\n",
      "1    9\n",
      "2    6\n",
      "3    1\n",
      "dtype: int64\n",
      "\n",
      "数学の関数\n",
      "0    6\n",
      "1    9\n",
      "2    6\n",
      "3    1\n",
      "dtype: int64\n",
      "0    2.44949\n",
      "1    3.00000\n",
      "2    2.44949\n",
      "3    1.00000\n",
      "dtype: float64\n",
      "0    1.791759\n",
      "1    2.197225\n",
      "2    1.791759\n",
      "3    0.000000\n",
      "dtype: float64\n",
      "0     403.428793\n",
      "1    8103.083928\n",
      "2     403.428793\n",
      "3       2.718282\n",
      "dtype: float64\n",
      "0    36\n",
      "1    81\n",
      "2    36\n",
      "3     1\n",
      "dtype: int64\n"
     ]
    }
   ],
   "source": [
    "print(sample_series1)\n",
    "\n",
    "print(\"\\n数学の関数\")\n",
    "print(np.abs(sample_series1))\n",
    "print(np.sqrt(sample_series1))\n",
    "print(np.log(sample_series1))\n",
    "print(np.exp(sample_series1))\n",
    "print(np.power(sample_series1, 2))"
   ]
  },
  {
   "cell_type": "code",
   "execution_count": 17,
   "id": "aeee308e-1c99-4a92-81ef-0c117bc46880",
   "metadata": {},
   "outputs": [
    {
     "name": "stdout",
     "output_type": "stream",
     "text": [
      "\n",
      "統計量に関する関数\n",
      "5.5\n",
      "2.8722813232690143\n",
      "22\n",
      "6.0\n",
      "\n",
      "最小値と最大値\n",
      "1\n",
      "9\n",
      "\n",
      "最小値と最大値のインデックス\n",
      "3\n",
      "1\n",
      "\n",
      "特殊な関数\n",
      "[1 6 9]\n",
      "[1 6 6 9]\n"
     ]
    }
   ],
   "source": [
    "print(\"\\n統計量に関する関数\")\n",
    "print(np.mean(sample_series1))\n",
    "print(np.std(sample_series1))\n",
    "print(np.sum(sample_series1))\n",
    "print(np.median(sample_series1))\n",
    "\n",
    "print(\"\\n最小値と最大値\")\n",
    "print(np.min(sample_series1))\n",
    "print(np.max(sample_series1))\n",
    "\n",
    "print(\"\\n最小値と最大値のインデックス\")\n",
    "print(np.argmin(sample_series1))\n",
    "print(np.argmax(sample_series1))\n",
    "\n",
    "print(\"\\n特殊な関数\")\n",
    "print(np.unique(sample_series1))\n",
    "print(np.sort(sample_series1))"
   ]
  },
  {
   "cell_type": "markdown",
   "id": "1250e7ff-1627-425f-994d-9bcbb2e853c3",
   "metadata": {},
   "source": [
    "# 2 DataFrame"
   ]
  },
  {
   "cell_type": "markdown",
   "id": "2f9db0c9-aa0d-460e-a6fd-01d939d4d67e",
   "metadata": {},
   "source": [
    "## 2.1 DataFrameの作成"
   ]
  },
  {
   "cell_type": "code",
   "execution_count": 18,
   "id": "0d827436-90b3-4b22-bc84-5f91bfd18e25",
   "metadata": {},
   "outputs": [
    {
     "name": "stdout",
     "output_type": "stream",
     "text": [
      "   StudentID  Japanese  Math\n",
      "0         10        85    15\n",
      "1         11        12    51\n",
      "2         12        29    69\n",
      "3         13        30    88 \n",
      " <class 'pandas.core.frame.DataFrame'>\n",
      "0    10\n",
      "1    11\n",
      "2    12\n",
      "3    13\n",
      "Name: StudentID, dtype: int64 \n",
      " <class 'pandas.core.series.Series'>\n",
      "0    10\n",
      "1    11\n",
      "2    12\n",
      "3    13\n",
      "Name: StudentID, dtype: int64 \n",
      " <class 'pandas.core.series.Series'>\n"
     ]
    }
   ],
   "source": [
    "sample_dict = {\"StudentID\" : np.arange(10, 14),\n",
    "               \"Japanese\" : np.random.randint(1, 100, 4),\n",
    "               \"Math\" : np.random.randint(1, 100, 4)}\n",
    "sample_df = pd.DataFrame(sample_dict)\n",
    "print(sample_df, \"\\n\", type(sample_df))\n",
    "print(sample_df[\"StudentID\"], \"\\n\", type(sample_df[\"StudentID\"]))\n",
    "print(sample_df.StudentID, \"\\n\", type(sample_df.StudentID))"
   ]
  },
  {
   "cell_type": "markdown",
   "id": "8d357d73-8dbd-4b76-ab32-6c914acedaef",
   "metadata": {},
   "source": [
    "## 2.2 参照"
   ]
  },
  {
   "cell_type": "code",
   "execution_count": 19,
   "id": "0bfaf754-0f87-4636-9559-6972a2f48bdb",
   "metadata": {},
   "outputs": [
    {
     "data": {
      "text/html": [
       "<div>\n",
       "<style scoped>\n",
       "    .dataframe tbody tr th:only-of-type {\n",
       "        vertical-align: middle;\n",
       "    }\n",
       "\n",
       "    .dataframe tbody tr th {\n",
       "        vertical-align: top;\n",
       "    }\n",
       "\n",
       "    .dataframe thead th {\n",
       "        text-align: right;\n",
       "    }\n",
       "</style>\n",
       "<table border=\"1\" class=\"dataframe\">\n",
       "  <thead>\n",
       "    <tr style=\"text-align: right;\">\n",
       "      <th></th>\n",
       "      <th>StudentID</th>\n",
       "      <th>Japanese</th>\n",
       "      <th>Math</th>\n",
       "    </tr>\n",
       "  </thead>\n",
       "  <tbody>\n",
       "    <tr>\n",
       "      <th>0</th>\n",
       "      <td>10</td>\n",
       "      <td>85</td>\n",
       "      <td>15</td>\n",
       "    </tr>\n",
       "    <tr>\n",
       "      <th>1</th>\n",
       "      <td>11</td>\n",
       "      <td>12</td>\n",
       "      <td>51</td>\n",
       "    </tr>\n",
       "    <tr>\n",
       "      <th>2</th>\n",
       "      <td>12</td>\n",
       "      <td>29</td>\n",
       "      <td>69</td>\n",
       "    </tr>\n",
       "  </tbody>\n",
       "</table>\n",
       "</div>"
      ],
      "text/plain": [
       "   StudentID  Japanese  Math\n",
       "0         10        85    15\n",
       "1         11        12    51\n",
       "2         12        29    69"
      ]
     },
     "execution_count": 19,
     "metadata": {},
     "output_type": "execute_result"
    }
   ],
   "source": [
    "sample_df.head(3)"
   ]
  },
  {
   "cell_type": "code",
   "execution_count": 20,
   "id": "4e6fa34f-af46-4503-ab05-3744c21df255",
   "metadata": {},
   "outputs": [
    {
     "name": "stdout",
     "output_type": "stream",
     "text": [
      "行指定\n",
      " StudentID    11\n",
      "Japanese     12\n",
      "Math         51\n",
      "Name: 1, dtype: int64\n",
      "\n",
      "列指定\n",
      " 11\n",
      "\n",
      "複数列指定\n",
      " Japanese    12\n",
      "Math        51\n",
      "Name: 1, dtype: int64\n",
      "\n",
      "数値で指定\n",
      " 51\n",
      "\n",
      "スライス\n",
      " Japanese    12\n",
      "Math        51\n",
      "Name: 1, dtype: int64\n"
     ]
    }
   ],
   "source": [
    "# 行や列の指定\n",
    "print(\"行指定\\n\", sample_df.loc[1])\n",
    "print(\"\\n列指定\\n\", sample_df.loc[1, \"StudentID\"])\n",
    "print(\"\\n複数列指定\\n\", sample_df.loc[1, [\"Japanese\", \"Math\"]])\n",
    "\n",
    "print(\"\\n数値で指定\\n\", sample_df.iloc[1, 2])\n",
    "print(\"\\nスライス\\n\", sample_df.iloc[1, 1:3])"
   ]
  },
  {
   "cell_type": "code",
   "execution_count": 21,
   "id": "44672448-331c-4355-a048-0398efd12bfc",
   "metadata": {},
   "outputs": [
    {
     "name": "stdout",
     "output_type": "stream",
     "text": [
      "\n",
      "Index RangeIndex(start=0, stop=4, step=1) <class 'pandas.core.indexes.range.RangeIndex'>\n",
      "\n",
      "Column Index(['StudentID', 'Japanese', 'Math'], dtype='object') <class 'pandas.core.indexes.base.Index'>\n",
      "\n",
      "    StudentID  Japanese  Math\n",
      "0         10        85    15\n",
      "\n",
      " 0    15\n",
      "Name: Math, dtype: int64\n"
     ]
    }
   ],
   "source": [
    "# IndexとColumn\n",
    "print(\"\\nIndex\", sample_df.index, type(sample_df.index))\n",
    "print(\"\\nColumn\", sample_df.columns, type(sample_df.columns))\n",
    "\n",
    "# 条件抽出\n",
    "print(\"\\n\", sample_df[sample_df[\"Japanese\"] > 50])\n",
    "print(\"\\n\", sample_df.loc[sample_df[\"Japanese\"] > 50, \"Math\"])"
   ]
  },
  {
   "cell_type": "markdown",
   "id": "f8360711-8d00-455b-8c55-fa22da1fc09f",
   "metadata": {},
   "source": [
    "## 2.3 代入と変更"
   ]
  },
  {
   "cell_type": "code",
   "execution_count": 22,
   "id": "0074dca9-3c3f-4d73-bad9-1799ce439043",
   "metadata": {},
   "outputs": [
    {
     "data": {
      "text/html": [
       "<div>\n",
       "<style scoped>\n",
       "    .dataframe tbody tr th:only-of-type {\n",
       "        vertical-align: middle;\n",
       "    }\n",
       "\n",
       "    .dataframe tbody tr th {\n",
       "        vertical-align: top;\n",
       "    }\n",
       "\n",
       "    .dataframe thead th {\n",
       "        text-align: right;\n",
       "    }\n",
       "</style>\n",
       "<table border=\"1\" class=\"dataframe\">\n",
       "  <thead>\n",
       "    <tr style=\"text-align: right;\">\n",
       "      <th></th>\n",
       "      <th>StudentID</th>\n",
       "      <th>Japanese</th>\n",
       "      <th>Math</th>\n",
       "    </tr>\n",
       "  </thead>\n",
       "  <tbody>\n",
       "    <tr>\n",
       "      <th>0</th>\n",
       "      <td>10</td>\n",
       "      <td>85</td>\n",
       "      <td>15</td>\n",
       "    </tr>\n",
       "    <tr>\n",
       "      <th>1</th>\n",
       "      <td>11</td>\n",
       "      <td>12</td>\n",
       "      <td>51</td>\n",
       "    </tr>\n",
       "    <tr>\n",
       "      <th>2</th>\n",
       "      <td>12</td>\n",
       "      <td>29</td>\n",
       "      <td>69</td>\n",
       "    </tr>\n",
       "    <tr>\n",
       "      <th>3</th>\n",
       "      <td>13</td>\n",
       "      <td>30</td>\n",
       "      <td>88</td>\n",
       "    </tr>\n",
       "  </tbody>\n",
       "</table>\n",
       "</div>"
      ],
      "text/plain": [
       "   StudentID  Japanese  Math\n",
       "0         10        85    15\n",
       "1         11        12    51\n",
       "2         12        29    69\n",
       "3         13        30    88"
      ]
     },
     "execution_count": 22,
     "metadata": {},
     "output_type": "execute_result"
    }
   ],
   "source": [
    "sample_df"
   ]
  },
  {
   "cell_type": "code",
   "execution_count": 23,
   "id": "7b5aa058-15fa-4b86-868a-796adbe46ee1",
   "metadata": {},
   "outputs": [
    {
     "name": "stdout",
     "output_type": "stream",
     "text": [
      "行の指定\n",
      "   StudentID  Japanese  Math\n",
      "0          0         0     0\n",
      "1         11        95    10\n",
      "2         12        97     8\n",
      "3         13        87    64\n",
      "   StudentID  Japanese  Math\n",
      "0          1         2     3\n",
      "1         11        95    10\n",
      "2         12        97     8\n",
      "3         13        87    64\n",
      "\n",
      "列の指定\n",
      "   StudentID  Japanese  Math\n",
      "0          1         2    -1\n",
      "1         11        95    -1\n",
      "2         12        97    -1\n",
      "3         13        87    -1\n",
      "   StudentID  Japanese  Math\n",
      "0          1         2     0\n",
      "1         11        95     1\n",
      "2         12        97     2\n",
      "3         13        87     3\n",
      "\n",
      "条件の指定\n",
      "   StudentID  Japanese  Math\n",
      "0          1         2     0\n",
      "1        100       100   100\n",
      "2        100       100   100\n",
      "3        100       100   100\n",
      "   StudentID  Japanese  Math\n",
      "0          1         2     0\n",
      "1        100       100  -100\n",
      "2        100       100  -100\n",
      "3        100       100  -100\n",
      "\n",
      "列の追加\n",
      "   StudentID  Japanese  Math  English\n",
      "0          1         2     0       62\n",
      "1        100       100  -100       23\n",
      "2        100       100  -100       58\n",
      "3        100       100  -100        2\n"
     ]
    }
   ],
   "source": [
    "sample_dict = {\"StudentID\" : np.arange(10, 14),\n",
    "               \"Japanese\" : np.random.randint(1, 100, 4),\n",
    "               \"Math\" : np.random.randint(1, 100, 4)}\n",
    "sample_df = pd.DataFrame(sample_dict)\n",
    "\n",
    "print(\"行の指定\")\n",
    "sample_df.loc[0] = 0\n",
    "print(sample_df)\n",
    "sample_df.loc[0] = [1, 2, 3]\n",
    "print(sample_df)\n",
    "\n",
    "print(\"\\n列の指定\")\n",
    "sample_df.Math = -1\n",
    "print(sample_df)\n",
    "sample_df[\"Math\"] = np.arange(4)\n",
    "print(sample_df)\n",
    "\n",
    "print(\"\\n条件の指定\")\n",
    "sample_df[sample_df[\"Japanese\"] > 10] = 100\n",
    "print(sample_df)\n",
    "sample_df.loc[sample_df[\"Japanese\"] > 10, \"Math\"] = -100\n",
    "print(sample_df)\n",
    "\n",
    "print(\"\\n列の追加\")\n",
    "sample_df[\"English\"] = np.random.randint(1, 100, 4)\n",
    "print(sample_df)"
   ]
  },
  {
   "cell_type": "markdown",
   "id": "bb33b10f-3a75-40db-b3e6-64c1b74fc204",
   "metadata": {},
   "source": [
    "## 2.4 関数"
   ]
  },
  {
   "cell_type": "code",
   "execution_count": 24,
   "id": "8a270cd9-0752-4bc4-b39b-9e635d769b15",
   "metadata": {},
   "outputs": [],
   "source": [
    "sample_dict = {\"StudentID\" : np.arange(10, 14),\n",
    "               \"Japanese\" : np.random.randint(1, 100, 4),\n",
    "               \"Math\" : np.random.randint(1, 100, 4)}\n",
    "sample_df = pd.DataFrame(sample_dict)"
   ]
  },
  {
   "cell_type": "code",
   "execution_count": 25,
   "id": "5a30e602-23b4-4597-ad35-23138a52f94d",
   "metadata": {},
   "outputs": [
    {
     "data": {
      "text/html": [
       "<div>\n",
       "<style scoped>\n",
       "    .dataframe tbody tr th:only-of-type {\n",
       "        vertical-align: middle;\n",
       "    }\n",
       "\n",
       "    .dataframe tbody tr th {\n",
       "        vertical-align: top;\n",
       "    }\n",
       "\n",
       "    .dataframe thead th {\n",
       "        text-align: right;\n",
       "    }\n",
       "</style>\n",
       "<table border=\"1\" class=\"dataframe\">\n",
       "  <thead>\n",
       "    <tr style=\"text-align: right;\">\n",
       "      <th></th>\n",
       "      <th>StudentID</th>\n",
       "      <th>Japanese</th>\n",
       "      <th>Math</th>\n",
       "    </tr>\n",
       "  </thead>\n",
       "  <tbody>\n",
       "    <tr>\n",
       "      <th>0</th>\n",
       "      <td>10</td>\n",
       "      <td>1</td>\n",
       "      <td>89</td>\n",
       "    </tr>\n",
       "    <tr>\n",
       "      <th>1</th>\n",
       "      <td>11</td>\n",
       "      <td>61</td>\n",
       "      <td>14</td>\n",
       "    </tr>\n",
       "    <tr>\n",
       "      <th>2</th>\n",
       "      <td>12</td>\n",
       "      <td>82</td>\n",
       "      <td>48</td>\n",
       "    </tr>\n",
       "    <tr>\n",
       "      <th>3</th>\n",
       "      <td>13</td>\n",
       "      <td>9</td>\n",
       "      <td>73</td>\n",
       "    </tr>\n",
       "  </tbody>\n",
       "</table>\n",
       "</div>"
      ],
      "text/plain": [
       "   StudentID  Japanese  Math\n",
       "0         10         1    89\n",
       "1         11        61    14\n",
       "2         12        82    48\n",
       "3         13         9    73"
      ]
     },
     "execution_count": 25,
     "metadata": {},
     "output_type": "execute_result"
    }
   ],
   "source": [
    "sample_df"
   ]
  },
  {
   "cell_type": "code",
   "execution_count": 26,
   "id": "06ac0837-dc08-4f98-805c-4e60f5f1aed3",
   "metadata": {},
   "outputs": [
    {
     "name": "stdout",
     "output_type": "stream",
     "text": [
      "   StudentID  Japanese      Math\n",
      "0   2.302585  0.000000  4.488636\n",
      "1   2.397895  4.110874  2.639057\n",
      "2   2.484907  4.406719  3.871201\n",
      "3   2.564949  2.197225  4.290459\n",
      "\n",
      " StudentID    2.397895\n",
      "Japanese     4.110874\n",
      "Math         2.639057\n",
      "Name: 1, dtype: float64\n",
      "\n",
      " 0    4.488636\n",
      "1    2.639057\n",
      "2    3.871201\n",
      "3    4.290459\n",
      "Name: Math, dtype: float64\n",
      "\n",
      " StudentID    13\n",
      "Japanese     82\n",
      "Math         89\n",
      "dtype: int64\n",
      "\n",
      " StudentID    13\n",
      "Japanese     82\n",
      "Math         89\n",
      "dtype: int64\n",
      "\n",
      "    StudentID  Japanese  Math\n",
      "0         13         4    92\n",
      "1         14        64    17\n",
      "2         15        85    51\n",
      "3         16        12    76\n",
      "\n",
      " 0    92\n",
      "1    17\n",
      "2    51\n",
      "3    76\n",
      "Name: Math, dtype: int64\n"
     ]
    }
   ],
   "source": [
    "# 全ての要素に対して\n",
    "print(np.log(sample_df))\n",
    "\n",
    "# 指定した行、列に対して\n",
    "print(\"\\n\", np.log(sample_df.loc[1]))\n",
    "print(\"\\n\", np.log(sample_df[\"Math\"]))\n",
    "\n",
    "# 各軸に対して\n",
    "print(\"\\n\", sample_df.max())\n",
    "print(\"\\n\", sample_df.max(axis=0))\n",
    "\n",
    "# オリジナル関数の適応\n",
    "sample_func = lambda x: x+3\n",
    "print(\"\\n\", sample_func(sample_df))\n",
    "print(\"\\n\", sample_func(sample_df[\"Math\"]))"
   ]
  },
  {
   "cell_type": "markdown",
   "id": "3c8fb7ae-34b8-4270-921a-a6af75928adb",
   "metadata": {},
   "source": [
    "## 2.5 csv"
   ]
  },
  {
   "cell_type": "code",
   "execution_count": 27,
   "id": "88555810-38cf-4772-86cf-3e52169be936",
   "metadata": {},
   "outputs": [],
   "source": [
    "sample_dict2 = {\"StudentID\" : np.arange(10, 110),\n",
    "               \"Japanese\" : np.random.randint(1, 100, 100)*np.random.choice([np.nan, 1], 100, p=[0.1, 0.9]),\n",
    "               \"Math\" : np.random.randint(1, 100, 100),\n",
    "               \"Sex\" : np.random.choice([\"Male\", \"Female\"], 100),\n",
    "               \"Class\" : np.random.choice([\"A\", \"B\", \"C\", None], 100)}\n",
    "sample_df2 = pd.DataFrame(sample_dict2)"
   ]
  },
  {
   "cell_type": "code",
   "execution_count": 28,
   "id": "eac8c1d7-3651-4fb0-9e8e-03e1e48b9ada",
   "metadata": {},
   "outputs": [
    {
     "data": {
      "text/html": [
       "<div>\n",
       "<style scoped>\n",
       "    .dataframe tbody tr th:only-of-type {\n",
       "        vertical-align: middle;\n",
       "    }\n",
       "\n",
       "    .dataframe tbody tr th {\n",
       "        vertical-align: top;\n",
       "    }\n",
       "\n",
       "    .dataframe thead th {\n",
       "        text-align: right;\n",
       "    }\n",
       "</style>\n",
       "<table border=\"1\" class=\"dataframe\">\n",
       "  <thead>\n",
       "    <tr style=\"text-align: right;\">\n",
       "      <th></th>\n",
       "      <th>StudentID</th>\n",
       "      <th>Japanese</th>\n",
       "      <th>Math</th>\n",
       "      <th>Sex</th>\n",
       "      <th>Class</th>\n",
       "    </tr>\n",
       "  </thead>\n",
       "  <tbody>\n",
       "    <tr>\n",
       "      <th>0</th>\n",
       "      <td>10</td>\n",
       "      <td>31.0</td>\n",
       "      <td>11</td>\n",
       "      <td>Female</td>\n",
       "      <td>B</td>\n",
       "    </tr>\n",
       "    <tr>\n",
       "      <th>1</th>\n",
       "      <td>11</td>\n",
       "      <td>72.0</td>\n",
       "      <td>69</td>\n",
       "      <td>Male</td>\n",
       "      <td>C</td>\n",
       "    </tr>\n",
       "    <tr>\n",
       "      <th>2</th>\n",
       "      <td>12</td>\n",
       "      <td>4.0</td>\n",
       "      <td>24</td>\n",
       "      <td>Male</td>\n",
       "      <td>B</td>\n",
       "    </tr>\n",
       "    <tr>\n",
       "      <th>3</th>\n",
       "      <td>13</td>\n",
       "      <td>71.0</td>\n",
       "      <td>15</td>\n",
       "      <td>Female</td>\n",
       "      <td>C</td>\n",
       "    </tr>\n",
       "    <tr>\n",
       "      <th>4</th>\n",
       "      <td>14</td>\n",
       "      <td>22.0</td>\n",
       "      <td>64</td>\n",
       "      <td>Male</td>\n",
       "      <td>A</td>\n",
       "    </tr>\n",
       "  </tbody>\n",
       "</table>\n",
       "</div>"
      ],
      "text/plain": [
       "   StudentID  Japanese  Math     Sex Class\n",
       "0         10      31.0    11  Female     B\n",
       "1         11      72.0    69    Male     C\n",
       "2         12       4.0    24    Male     B\n",
       "3         13      71.0    15  Female     C\n",
       "4         14      22.0    64    Male     A"
      ]
     },
     "execution_count": 28,
     "metadata": {},
     "output_type": "execute_result"
    }
   ],
   "source": [
    "sample_df2.head()"
   ]
  },
  {
   "cell_type": "code",
   "execution_count": 29,
   "id": "20c2960d-57f3-4cef-86f3-b587156d18e5",
   "metadata": {},
   "outputs": [],
   "source": [
    "sample_df2.to_csv(\"csv_data/sample_df.csv\", index_label=False)"
   ]
  },
  {
   "cell_type": "code",
   "execution_count": 30,
   "id": "4b060e25-d956-4ea7-a31a-a384b74ca7fa",
   "metadata": {},
   "outputs": [],
   "source": [
    "read_df = pd.read_csv(\"csv_data/sample_df.csv\")"
   ]
  },
  {
   "cell_type": "code",
   "execution_count": 31,
   "id": "b8644d81-989a-4d9f-b984-5a6d1f75ba57",
   "metadata": {},
   "outputs": [
    {
     "data": {
      "text/html": [
       "<div>\n",
       "<style scoped>\n",
       "    .dataframe tbody tr th:only-of-type {\n",
       "        vertical-align: middle;\n",
       "    }\n",
       "\n",
       "    .dataframe tbody tr th {\n",
       "        vertical-align: top;\n",
       "    }\n",
       "\n",
       "    .dataframe thead th {\n",
       "        text-align: right;\n",
       "    }\n",
       "</style>\n",
       "<table border=\"1\" class=\"dataframe\">\n",
       "  <thead>\n",
       "    <tr style=\"text-align: right;\">\n",
       "      <th></th>\n",
       "      <th>StudentID</th>\n",
       "      <th>Japanese</th>\n",
       "      <th>Math</th>\n",
       "      <th>Sex</th>\n",
       "      <th>Class</th>\n",
       "    </tr>\n",
       "  </thead>\n",
       "  <tbody>\n",
       "    <tr>\n",
       "      <th>0</th>\n",
       "      <td>10</td>\n",
       "      <td>31.0</td>\n",
       "      <td>11</td>\n",
       "      <td>Female</td>\n",
       "      <td>B</td>\n",
       "    </tr>\n",
       "    <tr>\n",
       "      <th>1</th>\n",
       "      <td>11</td>\n",
       "      <td>72.0</td>\n",
       "      <td>69</td>\n",
       "      <td>Male</td>\n",
       "      <td>C</td>\n",
       "    </tr>\n",
       "    <tr>\n",
       "      <th>2</th>\n",
       "      <td>12</td>\n",
       "      <td>4.0</td>\n",
       "      <td>24</td>\n",
       "      <td>Male</td>\n",
       "      <td>B</td>\n",
       "    </tr>\n",
       "    <tr>\n",
       "      <th>3</th>\n",
       "      <td>13</td>\n",
       "      <td>71.0</td>\n",
       "      <td>15</td>\n",
       "      <td>Female</td>\n",
       "      <td>C</td>\n",
       "    </tr>\n",
       "    <tr>\n",
       "      <th>4</th>\n",
       "      <td>14</td>\n",
       "      <td>22.0</td>\n",
       "      <td>64</td>\n",
       "      <td>Male</td>\n",
       "      <td>A</td>\n",
       "    </tr>\n",
       "  </tbody>\n",
       "</table>\n",
       "</div>"
      ],
      "text/plain": [
       "   StudentID  Japanese  Math     Sex Class\n",
       "0         10      31.0    11  Female     B\n",
       "1         11      72.0    69    Male     C\n",
       "2         12       4.0    24    Male     B\n",
       "3         13      71.0    15  Female     C\n",
       "4         14      22.0    64    Male     A"
      ]
     },
     "execution_count": 31,
     "metadata": {},
     "output_type": "execute_result"
    }
   ],
   "source": [
    "read_df.head()"
   ]
  },
  {
   "cell_type": "code",
   "execution_count": null,
   "id": "b623d87e-1bf4-459f-bf46-3485edb5701d",
   "metadata": {},
   "outputs": [],
   "source": []
  }
 ],
 "metadata": {
  "kernelspec": {
   "display_name": "Python 3 (ipykernel)",
   "language": "python",
   "name": "python3"
  },
  "language_info": {
   "codemirror_mode": {
    "name": "ipython",
    "version": 3
   },
   "file_extension": ".py",
   "mimetype": "text/x-python",
   "name": "python",
   "nbconvert_exporter": "python",
   "pygments_lexer": "ipython3",
   "version": "3.9.12"
  }
 },
 "nbformat": 4,
 "nbformat_minor": 5
}
