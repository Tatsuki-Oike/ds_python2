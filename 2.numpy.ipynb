{
 "cells": [
  {
   "cell_type": "markdown",
   "id": "8cf05461-0a6f-4cc9-a2da-f383738c02f3",
   "metadata": {},
   "source": [
    "# 1 numpyのオブジェクト"
   ]
  },
  {
   "cell_type": "code",
   "execution_count": 1,
   "id": "2e64ec25-5968-4274-82c3-cc7f925ca534",
   "metadata": {},
   "outputs": [],
   "source": [
    "import numpy as np\n",
    "np.random.seed(0)"
   ]
  },
  {
   "cell_type": "code",
   "execution_count": 2,
   "id": "7d5e812e-bf2f-495c-bf2d-55a1767d5822",
   "metadata": {},
   "outputs": [
    {
     "name": "stdout",
     "output_type": "stream",
     "text": [
      "<class 'module'>\n",
      "\n",
      "sample_ndarray1\n",
      "[1 2 3 4] <class 'numpy.ndarray'> int64\n",
      "2 <class 'numpy.int64'>\n",
      "[1. 2. 3. 4.]\n",
      "\n",
      "sample_ndarray2\n",
      "['1' '2' 'a' 'b'] <class 'numpy.ndarray'> <U21\n",
      "2 <class 'numpy.str_'>\n"
     ]
    }
   ],
   "source": [
    "sample_list1 = [1, 2, 3, 4]\n",
    "sample_list2 = [1, 2, \"a\", \"b\"]\n",
    "sample_ndarray1 = np.array(sample_list1)\n",
    "sample_ndarray2 = np.array(sample_list2)\n",
    "\n",
    "print(type(np))\n",
    "\n",
    "print(\"\\nsample_ndarray1\")\n",
    "print(sample_ndarray1, type(sample_ndarray1), sample_ndarray1.dtype)\n",
    "print(sample_ndarray1[1], type(sample_ndarray1[1]))\n",
    "print(sample_ndarray1.astype(float))\n",
    "\n",
    "print(\"\\nsample_ndarray2\")\n",
    "print(sample_ndarray2, type(sample_ndarray2), sample_ndarray2.dtype)\n",
    "print(sample_ndarray2[1], type(sample_ndarray2[1]))"
   ]
  },
  {
   "cell_type": "markdown",
   "id": "1441d1bc-5fd4-489b-8fb4-e19a7568a5a5",
   "metadata": {},
   "source": [
    "# 2 ndarrayの作成"
   ]
  },
  {
   "cell_type": "code",
   "execution_count": 3,
   "id": "ebfddccd-7580-4f65-b552-b728fabb835e",
   "metadata": {},
   "outputs": [
    {
     "name": "stdout",
     "output_type": "stream",
     "text": [
      "他の型からの変換\n",
      "[1 2 3 4]\n",
      "[1 2 3 4]\n",
      "ランダムな配列作成\n",
      "[[0.5488135  0.71518937 0.60276338]\n",
      " [0.54488318 0.4236548  0.64589411]]\n",
      "[[ 0.95008842 -0.15135721 -0.10321885]\n",
      " [ 0.4105985   0.14404357  1.45427351]]\n",
      "[[8 1 5 9]\n",
      " [8 9 4 3]\n",
      " [0 3 5 0]]\n",
      "[[64.94079073 47.94841736 53.13067702]\n",
      " [41.45904261 24.47010184 56.53618595]]\n",
      "定数の配列作成\n",
      "[[0. 0. 0.]\n",
      " [0. 0. 0.]]\n",
      "[[1. 1. 1.]\n",
      " [1. 1. 1.]]\n",
      "順番\n",
      "[0 1 2 3 4 5 6 7 8 9]\n",
      "[3 4 5 6 7]\n",
      "[0 2 4 6 8]\n"
     ]
    }
   ],
   "source": [
    "print(\"他の型からの変換\")\n",
    "print(np.array([1, 2, 3, 4]))\n",
    "print(np.array((1, 2, 3, 4)))\n",
    "\n",
    "print(\"ランダムな配列作成\")\n",
    "print(np.random.rand(2, 3))\n",
    "print(np.random.randn(2, 3))\n",
    "print(np.random.randint(0, 10, (3, 4)))\n",
    "print(np.random.normal(50, 10, (2, 3)))\n",
    "\n",
    "print(\"定数の配列作成\")\n",
    "print(np.zeros((2,3)))\n",
    "print(np.ones((2,3)))\n",
    "\n",
    "print(\"順番\")\n",
    "print(np.arange(10))\n",
    "print(np.arange(3, 8))\n",
    "print(np.arange(0, 10, 2))"
   ]
  },
  {
   "cell_type": "code",
   "execution_count": 4,
   "id": "29ee7b15-c13c-43e6-93f8-b8875c97a5cd",
   "metadata": {},
   "outputs": [
    {
     "name": "stdout",
     "output_type": "stream",
     "text": [
      "[[[3 2 7]\n",
      "  [2 0 0]]\n",
      "\n",
      " [[4 5 5]\n",
      "  [6 8 4]]]\n",
      "\n",
      "形\n",
      "(2, 2, 3) 12 3\n",
      "\n",
      "形の変更\n",
      "[[3 2 7]\n",
      " [2 0 0]\n",
      " [4 5 5]\n",
      " [6 8 4]]\n",
      "[[[3 2]\n",
      "  [2 0]\n",
      "  [7 0]]\n",
      "\n",
      " [[4 6]\n",
      "  [5 8]\n",
      "  [5 4]]]\n",
      "(2, 3, 2)\n"
     ]
    }
   ],
   "source": [
    "sample_arr3 = np.random.randint(0, 10, (2, 2, 3))\n",
    "\n",
    "print(sample_arr3)\n",
    "\n",
    "print(\"\\n形\")\n",
    "print(sample_arr3.shape, sample_arr3.size, sample_arr3.ndim)\n",
    "\n",
    "print(\"\\n形の変更\")\n",
    "print(sample_arr3.reshape(4, 3))\n",
    "print(sample_arr3.transpose(0, 2, 1))\n",
    "print(sample_arr3.transpose(0, 2, 1).shape)"
   ]
  },
  {
   "cell_type": "markdown",
   "id": "d12f4e1f-f305-407b-b5ac-4e45f29cc424",
   "metadata": {},
   "source": [
    "# 3 参照"
   ]
  },
  {
   "cell_type": "code",
   "execution_count": 5,
   "id": "dbfff4d4-b0d2-4eb5-8327-8ea4098016c2",
   "metadata": {},
   "outputs": [
    {
     "name": "stdout",
     "output_type": "stream",
     "text": [
      "[[1 4 9]\n",
      " [8 1 1]]\n",
      "\n",
      "index\n",
      "[1 4 9]\n",
      "9\n",
      "[4 9]\n",
      "[9 1]\n",
      "\n",
      "条件\n",
      "[9 8]\n",
      "\n",
      "mask\n",
      "[[0 0 1]\n",
      " [1 0 0]]\n"
     ]
    }
   ],
   "source": [
    "sample_arr4 = np.random.randint(0, 10, (2, 3))\n",
    "print(sample_arr4)\n",
    "\n",
    "print(\"\\nindex\")\n",
    "print(sample_arr4[0])\n",
    "print(sample_arr4[0, 2])\n",
    "print(sample_arr4[0, 1:3])\n",
    "print(sample_arr4[:, 2])\n",
    "\n",
    "print(\"\\n条件\")\n",
    "print(sample_arr4[sample_arr4 > 5])\n",
    "\n",
    "print(\"\\nmask\")\n",
    "print(np.where(sample_arr4 > 5, 1, 0))"
   ]
  },
  {
   "cell_type": "markdown",
   "id": "ad7330f2-94aa-4df9-a89d-c69a6f1d43ee",
   "metadata": {},
   "source": [
    "# 4 演算"
   ]
  },
  {
   "cell_type": "code",
   "execution_count": 6,
   "id": "24b2fc68-602a-4bfe-899d-57a2021879e3",
   "metadata": {},
   "outputs": [
    {
     "name": "stdout",
     "output_type": "stream",
     "text": [
      "arr_A\n",
      " [[1. 1. 1.]\n",
      " [1. 1. 1.]]\n",
      "arr_B\n",
      " [[2. 2. 2.]\n",
      " [2. 2. 2.]]\n",
      "arr_C\n",
      " [[3. 3.]\n",
      " [3. 3.]\n",
      " [3. 3.]]\n",
      "四則演算\n",
      "[[3. 3. 3.]\n",
      " [3. 3. 3.]]\n",
      "[[-1. -1. -1.]\n",
      " [-1. -1. -1.]]\n",
      "[[2. 2. 2.]\n",
      " [2. 2. 2.]]\n",
      "[[0.5 0.5 0.5]\n",
      " [0.5 0.5 0.5]]\n",
      "行列の演算\n",
      "[[9. 9.]\n",
      " [9. 9.]]\n"
     ]
    }
   ],
   "source": [
    "arr_A = np.ones((2, 3))\n",
    "arr_B = np.ones((2, 3)) * 2\n",
    "arr_C = np.ones((3, 2)) * 3\n",
    "\n",
    "print(\"arr_A\\n\", arr_A)\n",
    "print(\"arr_B\\n\", arr_B)\n",
    "print(\"arr_C\\n\", arr_C)\n",
    "\n",
    "print(\"四則演算\")\n",
    "print(arr_A + arr_B)\n",
    "print(arr_A - arr_B)\n",
    "print(arr_A * arr_B)\n",
    "print(arr_A / arr_B)\n",
    "\n",
    "print(\"行列の演算\")\n",
    "print(np.dot(arr_A, arr_C))"
   ]
  },
  {
   "cell_type": "markdown",
   "id": "df64228d-e022-43f8-ac76-c3630860fd9f",
   "metadata": {},
   "source": [
    "# 5 関数とメソッド"
   ]
  },
  {
   "cell_type": "code",
   "execution_count": 7,
   "id": "e7e2d34f-9f95-4c04-b7d6-27e006994dd3",
   "metadata": {},
   "outputs": [
    {
     "name": "stdout",
     "output_type": "stream",
     "text": [
      "sample_arr5\n",
      "[[4 2 2]\n",
      " [4 3 4]]\n",
      "\n",
      "数学の関数\n",
      "[[4 2 2]\n",
      " [4 3 4]]\n",
      "[[2.         1.41421356 1.41421356]\n",
      " [2.         1.73205081 2.        ]]\n",
      "[[1.38629436 0.69314718 0.69314718]\n",
      " [1.38629436 1.09861229 1.38629436]]\n",
      "[[54.59815003  7.3890561   7.3890561 ]\n",
      " [54.59815003 20.08553692 54.59815003]]\n",
      "[[16  4  4]\n",
      " [16  9 16]]\n",
      "\n",
      "統計量に関する関数\n",
      "3.1666666666666665\n",
      "[4.  2.5 3. ]\n",
      "[2.66666667 3.66666667]\n",
      "0.8975274678557507\n",
      "19\n",
      "3.5\n",
      "\n",
      "最小値と最大値\n",
      "2\n",
      "4\n",
      "\n",
      "最小値と最大値のインデックス\n",
      "1\n",
      "0\n",
      "\n",
      "特殊な関数\n",
      "[2 3 4]\n",
      "[[2 2 4]\n",
      " [3 4 4]]\n"
     ]
    }
   ],
   "source": [
    "sample_arr5 = np.random.randint(1, 5, (2, 3))\n",
    "\n",
    "print(\"sample_arr5\")\n",
    "print(sample_arr5)\n",
    "\n",
    "print(\"\\n数学の関数\")\n",
    "print(np.abs(sample_arr5))\n",
    "print(np.sqrt(sample_arr5))\n",
    "print(np.log(sample_arr5))\n",
    "print(np.exp(sample_arr5))\n",
    "print(np.power(sample_arr5, 2))\n",
    "\n",
    "print(\"\\n統計量に関する関数\")\n",
    "print(np.mean(sample_arr5))\n",
    "print(np.mean(sample_arr5, axis=0))\n",
    "print(np.mean(sample_arr5, axis=1))\n",
    "print(np.std(sample_arr5))\n",
    "print(np.sum(sample_arr5))\n",
    "print(np.median(sample_arr5))\n",
    "\n",
    "print(\"\\n最小値と最大値\")\n",
    "print(np.min(sample_arr5))\n",
    "print(np.max(sample_arr5))\n",
    "\n",
    "print(\"\\n最小値と最大値のインデックス\")\n",
    "print(np.argmin(sample_arr5))\n",
    "print(np.argmax(sample_arr5))\n",
    "\n",
    "print(\"\\n特殊な関数\")\n",
    "print(np.unique(sample_arr5))\n",
    "print(np.sort(sample_arr5))"
   ]
  },
  {
   "cell_type": "code",
   "execution_count": 8,
   "id": "2ee6b48c-f4bd-44c4-b50c-f943c79df278",
   "metadata": {},
   "outputs": [
    {
     "name": "stdout",
     "output_type": "stream",
     "text": [
      "sample_arr5\n",
      "[[4 2 2]\n",
      " [4 3 4]]\n",
      "\n",
      "統計量に関する関数\n",
      "3.1666666666666665\n",
      "[4.  2.5 3. ]\n",
      "[2.66666667 3.66666667]\n",
      "0.8975274678557507\n",
      "19\n",
      "\n",
      "最小値と最大値\n",
      "2\n",
      "4\n",
      "\n",
      "最小値と最大値のインデックス\n",
      "1\n",
      "0\n",
      "\n",
      "特殊な関数\n",
      "[[2 2 4]\n",
      " [3 4 4]]\n"
     ]
    }
   ],
   "source": [
    "print(\"sample_arr5\")\n",
    "print(sample_arr5)\n",
    "\n",
    "print(\"\\n統計量に関する関数\")\n",
    "print(sample_arr5.mean())\n",
    "print(sample_arr5.mean(axis=0))\n",
    "print(sample_arr5.mean(axis=1))\n",
    "print(sample_arr5.std())\n",
    "print(sample_arr5.sum())\n",
    "\n",
    "print(\"\\n最小値と最大値\")\n",
    "print(sample_arr5.min())\n",
    "print(sample_arr5.max())\n",
    "\n",
    "print(\"\\n最小値と最大値のインデックス\")\n",
    "print(sample_arr5.argmin())\n",
    "print(sample_arr5.argmax())\n",
    "\n",
    "print(\"\\n特殊な関数\")\n",
    "sample_arr5.sort()\n",
    "print(sample_arr5)"
   ]
  },
  {
   "cell_type": "code",
   "execution_count": null,
   "id": "0f37bb21-2bd6-40d8-9247-5f4b569dfae6",
   "metadata": {},
   "outputs": [],
   "source": []
  }
 ],
 "metadata": {
  "kernelspec": {
   "display_name": "Python 3 (ipykernel)",
   "language": "python",
   "name": "python3"
  },
  "language_info": {
   "codemirror_mode": {
    "name": "ipython",
    "version": 3
   },
   "file_extension": ".py",
   "mimetype": "text/x-python",
   "name": "python",
   "nbconvert_exporter": "python",
   "pygments_lexer": "ipython3",
   "version": "3.9.12"
  }
 },
 "nbformat": 4,
 "nbformat_minor": 5
}
